{
 "cells": [
  {
   "cell_type": "code",
   "execution_count": 1,
   "id": "da07c2d6",
   "metadata": {},
   "outputs": [
    {
     "name": "stdout",
     "output_type": "stream",
     "text": [
      "Inpur a word to reverse :vinod\n",
      "doniv\n",
      "\n"
     ]
    }
   ],
   "source": [
    "word = input(\"Inpur a word to reverse :\")\n",
    "for char in range (len(word)-1,-1,-1):\n",
    "    print(word[char],end = \"\")\n",
    "print(\"\\n\") "
   ]
  },
  {
   "cell_type": "code",
   "execution_count": null,
   "id": "7a5e48fa",
   "metadata": {},
   "outputs": [],
   "source": []
  }
 ],
 "metadata": {
  "kernelspec": {
   "display_name": "Python 3 (ipykernel)",
   "language": "python",
   "name": "python3"
  },
  "language_info": {
   "codemirror_mode": {
    "name": "ipython",
    "version": 3
   },
   "file_extension": ".py",
   "mimetype": "text/x-python",
   "name": "python",
   "nbconvert_exporter": "python",
   "pygments_lexer": "ipython3",
   "version": "3.10.5"
  }
 },
 "nbformat": 4,
 "nbformat_minor": 5
}
